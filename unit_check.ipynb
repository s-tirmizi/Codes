{
 "cells": [
  {
   "cell_type": "code",
   "execution_count": 245,
   "metadata": {},
   "outputs": [],
   "source": [
    "import numpy as np"
   ]
  },
  {
   "cell_type": "code",
   "execution_count": 248,
   "metadata": {},
   "outputs": [],
   "source": [
    "def kf_calc(w):\n",
    "    kf = (w**2/(12*0.9869*10**-11))\n",
    "    print(\"fracture permeability (kf) = \", np.round(kf, 4), \"mD\")\n",
    "    return kf\n",
    "\n",
    "def k_calc(k_mat, del_y, w, kf):\n",
    "    k = (((w*kf)+(k_mat*(del_y-w)))/del_y)\n",
    "    print(\"permeability of a fractured gridcell (k) = \", np.round(k, 4), \"mD\")\n",
    "    return k\n",
    "\n",
    "def cdiff(k_pkx, k):\n",
    "    diff = (k-k_pkx)\n",
    "    print(\"absolute difference between\", k_pkx, \"mD and\", np.round(k, 4), \"mD =\", np.abs(np.round(diff, 4)), \"mD\")"
   ]
  },
  {
   "cell_type": "code",
   "execution_count": 250,
   "metadata": {},
   "outputs": [
    {
     "name": "stdout",
     "output_type": "stream",
     "text": [
      "Sample no.  1\n",
      "Aperture value = 0.03041 cm\n",
      "k_pkx = 47000.0 mD (suppose)\n",
      "fracture permeability (kf) =  7808694.7344 mD\n",
      "permeability of a fractured gridcell (k) =  47492.5808 mD\n",
      "absolute difference between 47000.0 mD and 47492.5808 mD = 492.5808 mD\n",
      "\n",
      "Sample no.  2\n",
      "Aperture value = 0.03056 cm\n",
      "k_pkx = 47000.0 mD (suppose)\n",
      "fracture permeability (kf) =  7885918.8705 mD\n",
      "permeability of a fractured gridcell (k) =  48198.8355 mD\n",
      "absolute difference between 47000.0 mD and 48198.8355 mD = 1198.8355 mD\n",
      "\n",
      "Sample no.  3\n",
      "Aperture value = 0.01936 cm\n",
      "k_pkx = 12600.0 mD (suppose)\n",
      "fracture permeability (kf) =  3164873.1719 mD\n",
      "permeability of a fractured gridcell (k) =  12254.4885 mD\n",
      "absolute difference between 12600.0 mD and 12254.4885 mD = 345.5115 mD\n",
      "\n",
      "Sample no.  4\n",
      "Aperture value = 0.00386 cm\n",
      "k_pkx = 9.84 mD (suppose)\n",
      "fracture permeability (kf) =  125615.9776 mD\n",
      "permeability of a fractured gridcell (k) =  97.0001 mD\n",
      "absolute difference between 9.84 mD and 97.0001 mD = 87.1601 mD\n",
      "\n",
      "Sample no.  5\n",
      "Aperture value = 0.00055 cm\n",
      "k_pkx = 37.2 mD (suppose)\n",
      "fracture permeability (kf) =  2532.0512 mD\n",
      "permeability of a fractured gridcell (k) =  0.3773 mD\n",
      "absolute difference between 37.2 mD and 0.3773 mD = 36.8227 mD\n",
      "\n",
      "Sample no.  6\n",
      "Aperture value = 0.00401 cm\n",
      "k_pkx = 105.0 mD (suppose)\n",
      "fracture permeability (kf) =  135779.5454 mD\n",
      "permeability of a fractured gridcell (k) =  108.9951 mD\n",
      "absolute difference between 105.0 mD and 108.9951 mD = 3.9951 mD\n",
      "\n"
     ]
    }
   ],
   "source": [
    "k_mat = 0.1 #mD\n",
    "del_y = 0.05*100 #m to cm\n",
    "\n",
    "w_list = [0.3041/10, 0.3056/10, 0.1936/10, 0.03857/10, 0.005476/10, 0.0401/10]\n",
    "\n",
    "k_pkx_list = [.470e5, 0.470e5, 0.126e5, 0.984e1, 0.372e2, 0.105e3]\n",
    "\n",
    "for i in range(len(w_list)):\n",
    "    print(\"Sample no. \", i+1)\n",
    "\n",
    "    print(\"Aperture value =\", np.round(w_list[i], 5), \"cm\")\n",
    "    print(\"k_pkx =\", k_pkx_list[i], \"mD (suppose)\")\n",
    "\n",
    "    kf = kf_calc(w_list[i])\n",
    "\n",
    "    k = k_calc(k_mat, del_y, w_list[i], kf)\n",
    "\n",
    "    cdiff(k_pkx_list[i], k)\n",
    "    print()\n"
   ]
  },
  {
   "cell_type": "code",
   "execution_count": null,
   "metadata": {},
   "outputs": [],
   "source": []
  }
 ],
 "metadata": {
  "kernelspec": {
   "display_name": "base",
   "language": "python",
   "name": "python3"
  },
  "language_info": {
   "codemirror_mode": {
    "name": "ipython",
    "version": 3
   },
   "file_extension": ".py",
   "mimetype": "text/x-python",
   "name": "python",
   "nbconvert_exporter": "python",
   "pygments_lexer": "ipython3",
   "version": "3.9.7"
  },
  "orig_nbformat": 4,
  "vscode": {
   "interpreter": {
    "hash": "3f8e6ebf6687d5d5539fadbb99bc10d4c880933477bfd7e97f9b0f972f400113"
   }
  }
 },
 "nbformat": 4,
 "nbformat_minor": 2
}
