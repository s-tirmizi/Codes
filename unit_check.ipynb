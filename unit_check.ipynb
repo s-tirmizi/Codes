{
 "cells": [
  {
   "cell_type": "code",
   "execution_count": 1,
   "metadata": {},
   "outputs": [],
   "source": [
    "import numpy as np\n",
    "import pandas as pd\n",
    "import matplotlib.pyplot as plt"
   ]
  },
  {
   "cell_type": "code",
   "execution_count": 195,
   "metadata": {},
   "outputs": [],
   "source": [
    "def kf_calc(w):\n",
    "    kf = (w**2/(12*0.9869*10**-11))\n",
    "    print(\"k_f = \", np.round(kf, 4), \"mD\")\n",
    "    return kf\n",
    "\n",
    "def k_calc(k_mat, del_y, w, kf):\n",
    "    k = (((w*kf)+(k_mat*(del_y-w)))/del_y)\n",
    "    print(\"k = \", np.round(k, 4), \"mD\")\n",
    "    return k\n",
    "\n",
    "def cdiff(k_pkr, k):\n",
    "    diff = (k-k_pkx)\n",
    "    print(\"absolute difference between\", k_pkx, \"mD and\", np.round(k, 4), \"mD =\", np.abs(np.round(diff, 4)))"
   ]
  },
  {
   "cell_type": "code",
   "execution_count": 196,
   "metadata": {},
   "outputs": [
    {
     "name": "stdout",
     "output_type": "stream",
     "text": [
      "k_f =  7808694.7344 mD\n",
      "k_pkx = 24400.0 mD (suppose)\n",
      "k =  23746.3404 mD\n",
      "absolute difference between 24400.0 mD and 23746.3404 mD = 653.6596\n"
     ]
    }
   ],
   "source": [
    "k_mat = 0.1 #mD\n",
    "del_y = 0.1*100 #m to cm\n",
    "w = 0.3041/10#mm to cm\n",
    "k_pkx = .244e5\n",
    "\n",
    "kf = kf_calc(w)\n",
    "print(\"k_pkx =\", k_pkx, \"mD (suppose)\")\n",
    "k = k_calc(k_mat, del_y, w, kf)\n",
    "cdiff(k_pkx, k)"
   ]
  },
  {
   "cell_type": "code",
   "execution_count": 198,
   "metadata": {},
   "outputs": [
    {
     "name": "stdout",
     "output_type": "stream",
     "text": [
      "k_f =  7885918.8705 mD\n",
      "k_pkx = 21700.0 mD (suppose)\n",
      "k =  24099.4678 mD\n",
      "absolute difference between 21700.0 mD and 24099.4678 mD = 2399.4678\n"
     ]
    }
   ],
   "source": [
    "k_mat = 0.1 #mD\n",
    "del_y = 0.1*100 #m to cm\n",
    "w = 0.3056/10#mm to cm\n",
    "k_pkx = 0.217E+05 \n",
    "\n",
    "kf = kf_calc(w)\n",
    "print(\"k_pkx =\", k_pkx, \"mD (suppose)\")\n",
    "k = k_calc(k_mat, del_y, w, kf)\n",
    "cdiff(k_pkx, k)"
   ]
  },
  {
   "cell_type": "code",
   "execution_count": 202,
   "metadata": {},
   "outputs": [
    {
     "name": "stdout",
     "output_type": "stream",
     "text": [
      "k_f =  3164873.1719 mD\n",
      "k_pkx = 6130.0 mD (suppose)\n",
      "k =  6127.2943 mD\n",
      "absolute difference between 6130.0 mD and 6127.2943 mD = 2.7057\n"
     ]
    }
   ],
   "source": [
    "k_mat = 0.1 #mD\n",
    "del_y = 0.1*100 #m to cm\n",
    "w = 0.1936/10#mm to cm\n",
    "k_pkx = 0.613e4\n",
    "\n",
    "kf = kf_calc(w)\n",
    "print(\"k_pkx =\", k_pkx, \"mD (suppose)\")\n",
    "k = k_calc(k_mat, del_y, w, kf)\n",
    "cdiff(k_pkx, k)"
   ]
  },
  {
   "cell_type": "code",
   "execution_count": null,
   "metadata": {},
   "outputs": [],
   "source": []
  }
 ],
 "metadata": {
  "kernelspec": {
   "display_name": "base",
   "language": "python",
   "name": "python3"
  },
  "language_info": {
   "codemirror_mode": {
    "name": "ipython",
    "version": 3
   },
   "file_extension": ".py",
   "mimetype": "text/x-python",
   "name": "python",
   "nbconvert_exporter": "python",
   "pygments_lexer": "ipython3",
   "version": "3.9.7"
  },
  "orig_nbformat": 4,
  "vscode": {
   "interpreter": {
    "hash": "3f8e6ebf6687d5d5539fadbb99bc10d4c880933477bfd7e97f9b0f972f400113"
   }
  }
 },
 "nbformat": 4,
 "nbformat_minor": 2
}
